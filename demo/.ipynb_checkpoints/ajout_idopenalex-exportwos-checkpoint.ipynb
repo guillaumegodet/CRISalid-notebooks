{
 "cells": [
  {
   "cell_type": "markdown",
   "id": "fa438c5f",
   "metadata": {},
   "source": [
    "# Objectif de ce notebook : ajouter un champ avec l'ID OpenAlex dans un export Excel issu par exemple du WOS"
   ]
  },
  {
   "cell_type": "code",
   "execution_count": 12,
   "id": "218db20b",
   "metadata": {},
   "outputs": [],
   "source": [
    "import pandas as pd\n",
    "import requests"
   ]
  },
  {
   "cell_type": "markdown",
   "id": "9113106f",
   "metadata": {},
   "source": [
    "Charger le fichier Excel"
   ]
  },
  {
   "cell_type": "code",
   "execution_count": 7,
   "id": "c3e8a254",
   "metadata": {},
   "outputs": [],
   "source": [
    "df = pd.read_excel('..\\data\\exportwos.xls')"
   ]
  },
  {
   "cell_type": "markdown",
   "id": "dfb776b8",
   "metadata": {},
   "source": [
    "Vérifier que la colonne 'DOI Link' existe"
   ]
  },
  {
   "cell_type": "code",
   "execution_count": 8,
   "id": "6a752c1c",
   "metadata": {},
   "outputs": [],
   "source": [
    "if 'DOI Link' not in df.columns:\n",
    "    raise ValueError(\"La colonne 'DOI Link' n'existe pas dans le fichier Excel.\")"
   ]
  },
  {
   "cell_type": "markdown",
   "id": "0f4ca857",
   "metadata": {},
   "source": [
    "Fonction pour obtenir l'ID OpenAlex d'un DOI :"
   ]
  },
  {
   "cell_type": "code",
   "execution_count": 9,
   "id": "35579a16",
   "metadata": {},
   "outputs": [],
   "source": [
    "def get_openalex_id(doi_url):\n",
    "    response = requests.get(f\"https://api.openalex.org/works/{doi_url}\")\n",
    "    if response.status_code == 200:\n",
    "        data = response.json()\n",
    "        return data['id']\n",
    "    else:\n",
    "        return \"Non trouvé\""
   ]
  },
  {
   "cell_type": "markdown",
   "id": "50da0f68",
   "metadata": {},
   "source": [
    "Appliquer la fonction à chaque DOI et ajouter les résultats dans une nouvelle colonne"
   ]
  },
  {
   "cell_type": "code",
   "execution_count": 10,
   "id": "337cdd9b",
   "metadata": {},
   "outputs": [],
   "source": [
    "df['OpenAlex ID'] = df['DOI Link'].apply(get_openalex_id)"
   ]
  },
  {
   "cell_type": "markdown",
   "id": "250709a6",
   "metadata": {},
   "source": [
    "Enregistrer le fichier Excel modifié"
   ]
  },
  {
   "cell_type": "code",
   "execution_count": 11,
   "id": "93a1413f",
   "metadata": {},
   "outputs": [],
   "source": [
    "df.to_excel('..\\data\\exportwos-modifie.xlsx', index=False)"
   ]
  },
  {
   "cell_type": "code",
   "execution_count": null,
   "id": "8f6331d3",
   "metadata": {},
   "outputs": [],
   "source": []
  }
 ],
 "metadata": {
  "kernelspec": {
   "display_name": "Python 3 (ipykernel)",
   "language": "python",
   "name": "python3"
  },
  "language_info": {
   "codemirror_mode": {
    "name": "ipython",
    "version": 3
   },
   "file_extension": ".py",
   "mimetype": "text/x-python",
   "name": "python",
   "nbconvert_exporter": "python",
   "pygments_lexer": "ipython3",
   "version": "3.9.7"
  }
 },
 "nbformat": 4,
 "nbformat_minor": 5
}
