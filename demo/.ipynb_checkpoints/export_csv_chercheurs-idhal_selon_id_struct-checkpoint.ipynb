{
 "cells": [
  {
   "cell_type": "markdown",
   "id": "9d61405d",
   "metadata": {},
   "source": [
    "## Importation des bibliothèques\n",
    "Les bibliothèques nécessaires sont importées au début. `requests` pour les requêtes HTTP, `BeautifulSoup` pour l'analyse du XML, `csv` pour la manipulation des fichiers CSV, `pandas` pour afficher un tableau d'échantillon."
   ]
  },
  {
   "cell_type": "code",
   "execution_count": 1,
   "id": "2dfd6685",
   "metadata": {},
   "outputs": [],
   "source": [
    "import requests\n",
    "from bs4 import BeautifulSoup\n",
    "import csv\n",
    "import pandas as pd"
   ]
  },
  {
   "cell_type": "markdown",
   "id": "e634d975",
   "metadata": {},
   "source": [
    "## Définition des identifiants des laboratoires\n",
    "Liste des identifiants des laboratoires pour lesquels nous voulons récupérer les données des auteurs."
   ]
  },
  {
   "cell_type": "code",
   "execution_count": 2,
   "id": "4c8c3e6f",
   "metadata": {},
   "outputs": [],
   "source": [
    "lab_ids = [444290, 619]"
   ]
  },
  {
   "cell_type": "markdown",
   "id": "0aa00d69",
   "metadata": {},
   "source": [
    "## Requête à l'API et extraction des données\n",
    "Pour chaque identifiant de laboratoire, une requête est envoyée à l'API. Les réponses sont analysées et les données pertinentes sont extraites et enregistrées."
   ]
  },
  {
   "cell_type": "code",
   "execution_count": null,
   "id": "0a647690",
   "metadata": {},
   "outputs": [],
   "source": [
    "with open('hal_authors_by_all_labs-univ-test.csv', 'w', newline='', encoding='utf-8') as csvfile:\n",
    "    writer = csv.writer(csvfile)\n",
    "    writer.writerow(['Labo', 'Author Name', 'IDHAL'])  # En-tête du CSV\n",
    "\n",
    "    for lab_id in lab_ids:\n",
    "        url = f\"https://api.archives-ouvertes.fr/search/?q=*:*&rows=0&facet=true&facet.field=structHasAuthIdHal_fs&facet.prefix={lab_id}_&wt=xml&facet.limit=10000\"\n",
    "        response = requests.get(url)\n",
    "        if response.status_code == 200:\n",
    "            soup = BeautifulSoup(response.content, 'lxml')\n",
    "            for tag in soup.find_all(\"int\"):\n",
    "                parts = tag['name'].split('_FacetSep_')\n",
    "                author_idhal = parts[-2].split('_JoinSep_')[-1] if '_JoinSep_' in parts[-2] else ''\n",
    "                author_name = parts[-1]\n",
    "                writer.writerow([lab_id, author_name, author_idhal])\n"
   ]
  },
  {
   "cell_type": "markdown",
   "id": "c64920f3",
   "metadata": {},
   "source": [
    "## Voir si les données sont ok sur un échantillon de 10 lignes"
   ]
  },
  {
   "cell_type": "code",
   "execution_count": null,
   "id": "7cdf9101",
   "metadata": {},
   "outputs": [],
   "source": [
    "df_sample = pd.read_csv('hal_authors_by_all_labs-univ-test.csv', nrows=10)\n",
    "df_sample"
   ]
  },
  {
   "cell_type": "markdown",
   "id": "b9199deb",
   "metadata": {},
   "source": [
    "## Confirmation de la création du fichier\n",
    "Une fois toutes les données enregistrées, on confirme la création du fichier CSV."
   ]
  },
  {
   "cell_type": "code",
   "execution_count": 1,
   "id": "d2050128",
   "metadata": {},
   "outputs": [
    {
     "name": "stdout",
     "output_type": "stream",
     "text": [
      "Le fichier 'data/hal_authors_by_all_labs-univ-test.csv' a été créé avec succès.\n"
     ]
    }
   ],
   "source": [
    "print(\"Le fichier 'data/hal_authors_by_all_labs-univ-test.csv' a été créé avec succès.\")"
   ]
  },
  {
   "cell_type": "code",
   "execution_count": null,
   "id": "075e019f",
   "metadata": {},
   "outputs": [],
   "source": []
  }
 ],
 "metadata": {
  "kernelspec": {
   "display_name": "Python 3 (ipykernel)",
   "language": "python",
   "name": "python3"
  },
  "language_info": {
   "codemirror_mode": {
    "name": "ipython",
    "version": 3
   },
   "file_extension": ".py",
   "mimetype": "text/x-python",
   "name": "python",
   "nbconvert_exporter": "python",
   "pygments_lexer": "ipython3",
   "version": "3.9.7"
  }
 },
 "nbformat": 4,
 "nbformat_minor": 5
}
