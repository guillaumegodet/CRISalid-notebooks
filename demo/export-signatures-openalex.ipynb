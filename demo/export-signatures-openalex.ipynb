{
 "cells": [
  {
   "cell_type": "markdown",
   "id": "9d61405d",
   "metadata": {},
   "source": [
    "## Importation des bibliothèques\n",
    "Les bibliothèques nécessaires sont importées au début. `requests` pour les requêtes HTTP, `BeautifulSoup` pour l'analyse du XML, `csv` pour la manipulation des fichiers CSV, `pandas` pour afficher un tableau d'échantillon."
   ]
  },
  {
   "cell_type": "code",
   "execution_count": 1,
   "id": "2dfd6685",
   "metadata": {},
   "outputs": [],
   "source": [
    "import requests\n",
    "import pandas as pd\n",
    "import os"
   ]
  },
  {
   "cell_type": "markdown",
   "id": "e634d975",
   "metadata": {},
   "source": [
    "## Configuration des paramètres pour la requête API\n",
    "dans cet exemple, on veut récupérer les auteurs affiliés à l'ENSA Nantes (identifiant OpenAlex : i4210107693) dont la signature contient la chaîne de caractère \"Nantes\", pour exclure tous les co-auteurs non nantais. On se limite également à l'année 2022. "
   ]
  },
  {
   "cell_type": "code",
   "execution_count": 2,
   "id": "4c8c3e6f",
   "metadata": {},
   "outputs": [],
   "source": [
    "url = \"https://api.openalex.org/works\"\n",
    "params = {\n",
    "    \"page\": 1,\n",
    "    \"per_page\": 200,\n",
    "    \"filter\": 'authorships.institutions.lineage:i4210107693,raw_affiliation_strings.search:\"Nantes\",publication_year:2022'\n",
    "}"
   ]
  },
  {
   "cell_type": "markdown",
   "id": "0aa00d69",
   "metadata": {},
   "source": [
    "## Définition de la fonction pour récupérer les données"
   ]
  },
  {
   "cell_type": "code",
   "execution_count": 3,
   "id": "c7baa43a",
   "metadata": {},
   "outputs": [],
   "source": [
    "# Définition de la fonction pour fetch les données de l'API\n",
    "def fetch_data(url, params):\n",
    "    data_to_export = []\n",
    "    while True:\n",
    "        response = requests.get(url, params=params)\n",
    "        if response.status_code != 200:\n",
    "            print(\"Erreur lors de la requête API :\", response.status_code, response.text)\n",
    "            break\n",
    "\n",
    "        data = response.json()\n",
    "        print(\"Page\", params['page'], \":\", len(data.get('results', [])), \"résultats trouvés.\")\n",
    "\n",
    "        # Extraire les informations nécessaires\n",
    "        for work in data.get('results', []):\n",
    "            title = work.get('display_name', 'N/A')\n",
    "            doi = work.get('doi', 'N/A')\n",
    "            work_id = work.get('id', 'N/A')\n",
    "            publication_year = work.get('publication_year', 'N/A')\n",
    "            landing_page_url = work.get('primary_location', {}).get('landing_page_url', 'N/A')\n",
    "\n",
    "            for authorship in work.get('authorships', []):\n",
    "                raw_aff_strings = authorship.get('raw_affiliation_strings', [])\n",
    "                # Affichage pour le débogage\n",
    "                print(\"Examine l'affiliation :\", raw_aff_strings)\n",
    "                # Parcourir chaque affiliation dans la liste\n",
    "                for raw_aff_string in raw_aff_strings:\n",
    "                    if \"Nantes\" in raw_aff_string:\n",
    "                        author_name = authorship.get('raw_author_name', 'N/A')\n",
    "                        institutions = authorship.get('institutions', [])\n",
    "                        affiliation = institutions[0].get('display_name', 'N/A') if institutions else 'N/A'\n",
    "                        signature = raw_aff_string\n",
    "                        entry = [title, doi, work_id, publication_year, landing_page_url, author_name, affiliation, signature]\n",
    "                        data_to_export.append(entry)\n",
    "                        print(\"Ajouté :\", entry)  # Affichage pour le débogage\n",
    "\n",
    "        # Vérifier si c'est la fin des résultats\n",
    "        if len(data.get('results', [])) < params.get(\"per_page\", 200):\n",
    "            break  # Si moins de résultats que le maximum par page, c'est la fin\n",
    "        else:\n",
    "            params['page'] += 1  # Passer à la page suivante\n",
    "    return data_to_export\n"
   ]
  },
  {
   "cell_type": "code",
   "execution_count": null,
   "id": "c0ec44a8",
   "metadata": {},
   "outputs": [],
   "source": []
  },
  {
   "cell_type": "markdown",
   "id": "bccc3d49",
   "metadata": {},
   "source": [
    "## Appel de la fonction et collecte des données"
   ]
  },
  {
   "cell_type": "code",
   "execution_count": 4,
   "id": "c401a287",
   "metadata": {},
   "outputs": [
    {
     "name": "stdout",
     "output_type": "stream",
     "text": [
      "Page 1 : 17 résultats trouvés.\n",
      "Examine l'affiliation : ['Nantes Université, ENSA Nantes, École Centrale Nantes, CNRS, AAU-CRENAU, UMR 1563, F-44000 Nantes, France']\n",
      "Ajouté : ['THE WHOLE IS OTHER THAN THE SUM OF ITS PARTS: SENSIBILITY ANALYSIS OF 360° URBAN IMAGE SPLITTING', 'https://doi.org/10.5194/isprs-annals-v-4-2022-33-2022', 'https://openalex.org/W4280538011', 2022, 'https://doi.org/10.5194/isprs-annals-v-4-2022-33-2022', 'B. Beaucamp', 'École Centrale de Nantes', 'Nantes Université, ENSA Nantes, École Centrale Nantes, CNRS, AAU-CRENAU, UMR 1563, F-44000 Nantes, France']\n",
      "Examine l'affiliation : ['Nantes Université, ENSA Nantes, École Centrale Nantes, CNRS, AAU-CRENAU, UMR 1563, F-44000 Nantes, France']\n",
      "Ajouté : ['THE WHOLE IS OTHER THAN THE SUM OF ITS PARTS: SENSIBILITY ANALYSIS OF 360° URBAN IMAGE SPLITTING', 'https://doi.org/10.5194/isprs-annals-v-4-2022-33-2022', 'https://openalex.org/W4280538011', 2022, 'https://doi.org/10.5194/isprs-annals-v-4-2022-33-2022', 'T. Leduc', 'École Centrale de Nantes', 'Nantes Université, ENSA Nantes, École Centrale Nantes, CNRS, AAU-CRENAU, UMR 1563, F-44000 Nantes, France']\n",
      "Examine l'affiliation : ['Nantes Université, ENSA Nantes, École Centrale Nantes, CNRS, AAU-CRENAU, UMR 1563, F-44000 Nantes, France']\n",
      "Ajouté : ['THE WHOLE IS OTHER THAN THE SUM OF ITS PARTS: SENSIBILITY ANALYSIS OF 360° URBAN IMAGE SPLITTING', 'https://doi.org/10.5194/isprs-annals-v-4-2022-33-2022', 'https://openalex.org/W4280538011', 2022, 'https://doi.org/10.5194/isprs-annals-v-4-2022-33-2022', 'V. Tourre', 'École Centrale de Nantes', 'Nantes Université, ENSA Nantes, École Centrale Nantes, CNRS, AAU-CRENAU, UMR 1563, F-44000 Nantes, France']\n",
      "Examine l'affiliation : ['Nantes Université, ENSA Nantes, École Centrale Nantes, CNRS, AAU-CRENAU, UMR 1563, F-44000 Nantes, France']\n",
      "Ajouté : ['THE WHOLE IS OTHER THAN THE SUM OF ITS PARTS: SENSIBILITY ANALYSIS OF 360° URBAN IMAGE SPLITTING', 'https://doi.org/10.5194/isprs-annals-v-4-2022-33-2022', 'https://openalex.org/W4280538011', 2022, 'https://doi.org/10.5194/isprs-annals-v-4-2022-33-2022', 'M. Servières', 'École Centrale de Nantes', 'Nantes Université, ENSA Nantes, École Centrale Nantes, CNRS, AAU-CRENAU, UMR 1563, F-44000 Nantes, France']\n",
      "Examine l'affiliation : ['ENSA Nantes, Ecole Centrale Nantes, Nantes Université, Nantes, France']\n",
      "Ajouté : ['Designing thermally sensitive public spaces: an analysis through urban design media', 'https://doi.org/10.1080/13574809.2022.2062312', 'https://openalex.org/W4293239148', 2022, 'https://doi.org/10.1080/13574809.2022.2062312', 'Ignacio Requena-Ruiz', 'École Centrale de Nantes', 'ENSA Nantes, Ecole Centrale Nantes, Nantes Université, Nantes, France']\n",
      "Examine l'affiliation : ['ENSA Nantes, Ecole Centrale Nantes, Nantes Université, Nantes, France']\n",
      "Ajouté : ['Designing thermally sensitive public spaces: an analysis through urban design media', 'https://doi.org/10.1080/13574809.2022.2062312', 'https://openalex.org/W4293239148', 2022, 'https://doi.org/10.1080/13574809.2022.2062312', 'Daniel Siret', 'École Centrale de Nantes', 'ENSA Nantes, Ecole Centrale Nantes, Nantes Université, Nantes, France']\n",
      "Examine l'affiliation : ['ENSA Nantes, Ecole Centrale Nantes, Nantes Université, Nantes, France']\n",
      "Ajouté : ['Designing thermally sensitive public spaces: an analysis through urban design media', 'https://doi.org/10.1080/13574809.2022.2062312', 'https://openalex.org/W4293239148', 2022, 'https://doi.org/10.1080/13574809.2022.2062312', 'Xenia Stavropulos-Laffaille', 'École Centrale de Nantes', 'ENSA Nantes, Ecole Centrale Nantes, Nantes Université, Nantes, France']\n",
      "Examine l'affiliation : ['ENSA Nantes, Ecole Centrale Nantes, Nantes Université, Nantes, France']\n",
      "Ajouté : ['Designing thermally sensitive public spaces: an analysis through urban design media', 'https://doi.org/10.1080/13574809.2022.2062312', 'https://openalex.org/W4293239148', 2022, 'https://doi.org/10.1080/13574809.2022.2062312', 'Thomas Leduc', 'École Centrale de Nantes', 'ENSA Nantes, Ecole Centrale Nantes, Nantes Université, Nantes, France']\n",
      "Examine l'affiliation : ['Inria, Univ Rennes, CNRS, IRISA, France']\n",
      "Examine l'affiliation : ['Nantes Universit&#x00E9;,ENSA Nantes, &#x00C9; cole Centrale Nantes, CNRS, AAU-CRENAU, UMR 1563,Nantes,France,F-44000']\n",
      "Ajouté : ['Studying the Role of Self and External Touch in the Appropriation of Dysmorphic Hands', 'https://doi.org/10.1109/ismar55827.2022.00024', 'https://openalex.org/W4312207789', 2022, 'https://doi.org/10.1109/ismar55827.2022.00024', 'Fribourg, Rebecca', 'École Centrale de Nantes', 'Nantes Universit&#x00E9;,ENSA Nantes, &#x00C9; cole Centrale Nantes, CNRS, AAU-CRENAU, UMR 1563,Nantes,France,F-44000']\n",
      "Examine l'affiliation : ['CyberAgent AI Lab, Japan']\n",
      "Examine l'affiliation : ['Inria, Univ Rennes, CNRS, IRISA, France']\n",
      "Examine l'affiliation : ['The University of Tokyo, Japan']\n",
      "Examine l'affiliation : ['The University of Tokyo, Japan']\n",
      "Examine l'affiliation : ['Inria, Univ Rennes, CNRS, IRISA, France']\n",
      "Examine l'affiliation : ['Nantes Universit&#x00E9;,ENSA Nantes, &#x00C9; cole Centrale Nantes, CNRS, AAU-CRENAU, UMR 1563,Nantes,France,F-44000']\n",
      "Ajouté : ['Studying the Role of Self and External Touch in the Appropriation of Dysmorphic Hands', 'https://doi.org/10.1109/ismar55827.2022.00024', 'https://openalex.org/W4312207789', 2022, 'https://doi.org/10.1109/ismar55827.2022.00024', 'Normand, Jean-Marie', 'École Centrale de Nantes', 'Nantes Universit&#x00E9;,ENSA Nantes, &#x00C9; cole Centrale Nantes, CNRS, AAU-CRENAU, UMR 1563,Nantes,France,F-44000']\n",
      "Examine l'affiliation : ['ENSA Nantes − CRENAU / AAU UMR-CNRS1563, France Architecture Technology Department, Technical University of Catalonia (UPC) MAST-GPEM, Univ. Gustave Eiffel, IFSTTAR, F-44344 Bouguenais, France']\n",
      "Ajouté : ['Rediscovered earth heritage becomes motor for local change - The Guérande Peninsula (France)', 'https://doi.org/10.4995/heritage2022.2022.15287', 'https://openalex.org/W4295945083', 2022, 'https://doi.org/10.4995/heritage2022.2022.15287', 'MARTA MIRANDA SANTOS', \"École Nationale Supérieure d'Architecture de Nantes\", 'ENSA Nantes − CRENAU / AAU UMR-CNRS1563, France Architecture Technology Department, Technical University of Catalonia (UPC) MAST-GPEM, Univ. Gustave Eiffel, IFSTTAR, F-44344 Bouguenais, France']\n",
      "Examine l'affiliation : ['Earth builder']\n",
      "Examine l'affiliation : ['IUT de Saint-Nazaire, Département Génie Civil, Université de Nantes, Saint-Nazaire (France)']\n",
      "Ajouté : ['Rediscovered earth heritage becomes motor for local change - The Guérande Peninsula (France)', 'https://doi.org/10.4995/heritage2022.2022.15287', 'https://openalex.org/W4295945083', 2022, 'https://doi.org/10.4995/heritage2022.2022.15287', 'Philippe Poullain', 'Nantes Université', 'IUT de Saint-Nazaire, Département Génie Civil, Université de Nantes, Saint-Nazaire (France)']\n",
      "Examine l'affiliation : ['MAST-GPEM, Univ. Gustave Eiffel, IFSTTAR, F-44344 Bouguenais, France']\n",
      "Examine l'affiliation : ['Earth builder']\n",
      "Examine l'affiliation : ['Nantes Université, ENSA Nantes, École Centrale Nantes, CNRS, AAU-CRENAU, UMR 1563, F-44000 Nantes, France']\n",
      "Ajouté : ['THE WHOLE IS OTHER THAN THE SUM OF ITS PARTS: SENSIBILITY ANALYSIS OF 360° URBAN IMAGE SPLITTING', 'https://doi.org/10.5281/zenodo.6409861', 'https://openalex.org/W4393782727', 2022, 'https://zenodo.org/record/6409861', 'Benjamin Beaucamp', 'École Centrale de Nantes', 'Nantes Université, ENSA Nantes, École Centrale Nantes, CNRS, AAU-CRENAU, UMR 1563, F-44000 Nantes, France']\n",
      "Examine l'affiliation : ['Nantes Université, ENSA Nantes, École Centrale Nantes, CNRS, AAU-CRENAU, UMR 1563, F-44000 Nantes, France']\n",
      "Ajouté : ['THE WHOLE IS OTHER THAN THE SUM OF ITS PARTS: SENSIBILITY ANALYSIS OF 360° URBAN IMAGE SPLITTING', 'https://doi.org/10.5281/zenodo.6409861', 'https://openalex.org/W4393782727', 2022, 'https://zenodo.org/record/6409861', 'Thomas Leduc', 'École Centrale de Nantes', 'Nantes Université, ENSA Nantes, École Centrale Nantes, CNRS, AAU-CRENAU, UMR 1563, F-44000 Nantes, France']\n",
      "Examine l'affiliation : ['Nantes Université, ENSA Nantes, École Centrale Nantes, CNRS, AAU-CRENAU, UMR 1563, F-44000 Nantes, France']\n",
      "Ajouté : ['THE WHOLE IS OTHER THAN THE SUM OF ITS PARTS: SENSIBILITY ANALYSIS OF 360° URBAN IMAGE SPLITTING', 'https://doi.org/10.5281/zenodo.6409861', 'https://openalex.org/W4393782727', 2022, 'https://zenodo.org/record/6409861', 'Vincent Tourre', 'École Centrale de Nantes', 'Nantes Université, ENSA Nantes, École Centrale Nantes, CNRS, AAU-CRENAU, UMR 1563, F-44000 Nantes, France']\n",
      "Examine l'affiliation : ['Nantes Université, ENSA Nantes, École Centrale Nantes, CNRS, AAU-CRENAU, UMR 1563, F-44000 Nantes, France']\n",
      "Ajouté : ['THE WHOLE IS OTHER THAN THE SUM OF ITS PARTS: SENSIBILITY ANALYSIS OF 360° URBAN IMAGE SPLITTING', 'https://doi.org/10.5281/zenodo.6409861', 'https://openalex.org/W4393782727', 2022, 'https://zenodo.org/record/6409861', 'Myriam Servières', 'École Centrale de Nantes', 'Nantes Université, ENSA Nantes, École Centrale Nantes, CNRS, AAU-CRENAU, UMR 1563, F-44000 Nantes, France']\n",
      "Examine l'affiliation : ['Nantes Université, ENSA Nantes, École Centrale Nantes, CNRS, AAU-CRENAU, UMR 1563, F-44000 Nantes, France']\n",
      "Ajouté : ['THE WHOLE IS OTHER THAN THE SUM OF ITS PARTS: SENSIBILITY ANALYSIS OF 360° URBAN IMAGE SPLITTING', 'https://doi.org/10.5281/zenodo.6409860', 'https://openalex.org/W4393434323', 2022, 'https://zenodo.org/record/6409860', 'Benjamin Beaucamp', 'École Centrale de Nantes', 'Nantes Université, ENSA Nantes, École Centrale Nantes, CNRS, AAU-CRENAU, UMR 1563, F-44000 Nantes, France']\n",
      "Examine l'affiliation : ['Nantes Université, ENSA Nantes, École Centrale Nantes, CNRS, AAU-CRENAU, UMR 1563, F-44000 Nantes, France']\n",
      "Ajouté : ['THE WHOLE IS OTHER THAN THE SUM OF ITS PARTS: SENSIBILITY ANALYSIS OF 360° URBAN IMAGE SPLITTING', 'https://doi.org/10.5281/zenodo.6409860', 'https://openalex.org/W4393434323', 2022, 'https://zenodo.org/record/6409860', 'Thomas Leduc', 'École Centrale de Nantes', 'Nantes Université, ENSA Nantes, École Centrale Nantes, CNRS, AAU-CRENAU, UMR 1563, F-44000 Nantes, France']\n",
      "Examine l'affiliation : ['Nantes Université, ENSA Nantes, École Centrale Nantes, CNRS, AAU-CRENAU, UMR 1563, F-44000 Nantes, France']\n",
      "Ajouté : ['THE WHOLE IS OTHER THAN THE SUM OF ITS PARTS: SENSIBILITY ANALYSIS OF 360° URBAN IMAGE SPLITTING', 'https://doi.org/10.5281/zenodo.6409860', 'https://openalex.org/W4393434323', 2022, 'https://zenodo.org/record/6409860', 'Vincent Tourre', 'École Centrale de Nantes', 'Nantes Université, ENSA Nantes, École Centrale Nantes, CNRS, AAU-CRENAU, UMR 1563, F-44000 Nantes, France']\n",
      "Examine l'affiliation : ['Nantes Université, ENSA Nantes, École Centrale Nantes, CNRS, AAU-CRENAU, UMR 1563, F-44000 Nantes, France']\n",
      "Ajouté : ['THE WHOLE IS OTHER THAN THE SUM OF ITS PARTS: SENSIBILITY ANALYSIS OF 360° URBAN IMAGE SPLITTING', 'https://doi.org/10.5281/zenodo.6409860', 'https://openalex.org/W4393434323', 2022, 'https://zenodo.org/record/6409860', 'Myriam Servières', 'École Centrale de Nantes', 'Nantes Université, ENSA Nantes, École Centrale Nantes, CNRS, AAU-CRENAU, UMR 1563, F-44000 Nantes, France']\n",
      "Examine l'affiliation : ['Nantes Université, ENSA Nantes, École Centrale Nantes, CNRS, AAU-CRENAU, UMR 1563, F-44000 Nantes, France']\n",
      "Ajouté : ['Towards a Sensitive Urban Wind Representation in Virtual Reality', 'https://doi.org/10.3390/ijgi11040239', 'https://openalex.org/W4224250235', 2022, 'https://doi.org/10.3390/ijgi11040239', 'Gabriel Giraldo', 'École Centrale de Nantes', 'Nantes Université, ENSA Nantes, École Centrale Nantes, CNRS, AAU-CRENAU, UMR 1563, F-44000 Nantes, France']\n",
      "Examine l'affiliation : ['Nantes Université, ENSA Nantes, École Centrale Nantes, CNRS, AAU-CRENAU, UMR 1563, F-44000 Nantes, France']\n",
      "Ajouté : ['Towards a Sensitive Urban Wind Representation in Virtual Reality', 'https://doi.org/10.3390/ijgi11040239', 'https://openalex.org/W4224250235', 2022, 'https://doi.org/10.3390/ijgi11040239', 'Myriam Servières', 'École Centrale de Nantes', 'Nantes Université, ENSA Nantes, École Centrale Nantes, CNRS, AAU-CRENAU, UMR 1563, F-44000 Nantes, France']\n",
      "Examine l'affiliation : ['IMT Atlantique, Lab-STICC UMR 6285, F-29200 Brest, France']\n",
      "Examine l'affiliation : ['Nantes Université, ENSA Nantes, École Centrale Nantes, CNRS, AAU-CRENAU, UMR 1563, F-44000 Nantes, France']\n",
      "Ajouté : ['Coupled use of isovists and wavelets for street intersection pattern determination', 'https://doi.org/10.1177/23998083221138833', 'https://openalex.org/W4308588623', 2022, 'https://doi.org/10.1177/23998083221138833', 'Thomas Leduc', 'École Centrale de Nantes', 'Nantes Université, ENSA Nantes, École Centrale Nantes, CNRS, AAU-CRENAU, UMR 1563, F-44000 Nantes, France']\n",
      "Examine l'affiliation : ['UMR Ambiances Architectures Urbanités CNRS/ENSAN/ECN, Nantes, France']\n",
      "Ajouté : [\"Citizen as Sensors' Commitment in Urban Public Action\", 'https://doi.org/10.4018/978-1-6684-3706-3.ch034', 'https://openalex.org/W4200065179', 2022, 'https://doi.org/10.4018/978-1-6684-3706-3.ch034', \"Gwendoline l'Her\", 'AAU - Ambiances, Architectures, Urbanités', 'UMR Ambiances Architectures Urbanités CNRS/ENSAN/ECN, Nantes, France']\n",
      "Examine l'affiliation : ['UMR Ambiances Architectures Urbanités CNRS/ENSAN/ECN, Nantes, France']\n",
      "Ajouté : [\"Citizen as Sensors' Commitment in Urban Public Action\", 'https://doi.org/10.4018/978-1-6684-3706-3.ch034', 'https://openalex.org/W4200065179', 2022, 'https://doi.org/10.4018/978-1-6684-3706-3.ch034', 'Myriam Servières', 'AAU - Ambiances, Architectures, Urbanités', 'UMR Ambiances Architectures Urbanités CNRS/ENSAN/ECN, Nantes, France']\n",
      "Examine l'affiliation : ['UMR Ambiances Architectures Urbanités CNRS/ENSAN/ECN, Nantes, France']\n",
      "Ajouté : [\"Citizen as Sensors' Commitment in Urban Public Action\", 'https://doi.org/10.4018/978-1-6684-3706-3.ch034', 'https://openalex.org/W4200065179', 2022, 'https://doi.org/10.4018/978-1-6684-3706-3.ch034', 'Daniel Siret', 'AAU - Ambiances, Architectures, Urbanités', 'UMR Ambiances Architectures Urbanités CNRS/ENSAN/ECN, Nantes, France']\n",
      "Examine l'affiliation : [\"Élise Roy est maître de conférences à l'École nationale supérieure d'architecture de Nantes (champ SHSA), responsable du master Villes et Territoires et chercheure au laboratoire Ambiances Architectures Urbanités (Nantes Université, ENSA Nantes, École centrale Nantes, CNRS, AAU-CRENAU, UMR 1563).\"]\n",
      "Ajouté : ['Living confined, domesticating the pandemic : towards a new inhabitant syntax ?', 'https://doi.org/10.4000/developpementdurable.21450', 'https://openalex.org/W4318611257', 2022, 'https://doi.org/10.4000/developpementdurable.21450', 'Élise Roy', \"École Nationale Supérieure d'Architecture de Nantes\", \"Élise Roy est maître de conférences à l'École nationale supérieure d'architecture de Nantes (champ SHSA), responsable du master Villes et Territoires et chercheure au laboratoire Ambiances Architectures Urbanités (Nantes Université, ENSA Nantes, École centrale Nantes, CNRS, AAU-CRENAU, UMR 1563).\"]\n",
      "Examine l'affiliation : [\"Julie Gangneux-Kebe est maître de conférences associée à l'École nationale supérieure d'architecture de Bretagne, chercheure associée au laboratoire ESO-Nantes, UMR 6590.\"]\n",
      "Ajouté : ['Living confined, domesticating the pandemic : towards a new inhabitant syntax ?', 'https://doi.org/10.4000/developpementdurable.21450', 'https://openalex.org/W4318611257', 2022, 'https://doi.org/10.4000/developpementdurable.21450', 'Julie Gangneux-Kebe', \"École Nationale Supérieure d'Architecture de Bretagne\", \"Julie Gangneux-Kebe est maître de conférences associée à l'École nationale supérieure d'architecture de Bretagne, chercheure associée au laboratoire ESO-Nantes, UMR 6590.\"]\n",
      "Examine l'affiliation : [\"Léa Perraudeau est étudiante en master à l'Ensa Nantes. Elle a réalisé un stage au sein de l'équipe Crenau du laboratoire Ambiances Architectures Urbanités de février à juin\\xa02021.\"]\n",
      "Ajouté : ['Living confined, domesticating the pandemic : towards a new inhabitant syntax ?', 'https://doi.org/10.4000/developpementdurable.21450', 'https://openalex.org/W4318611257', 2022, 'https://doi.org/10.4000/developpementdurable.21450', 'Léa Perraudeau', 'N/A', \"Léa Perraudeau est étudiante en master à l'Ensa Nantes. Elle a réalisé un stage au sein de l'équipe Crenau du laboratoire Ambiances Architectures Urbanités de février à juin\\xa02021.\"]\n",
      "Examine l'affiliation : ['Centre de recherche nantais Architectures Urbanités']\n",
      "Examine l'affiliation : ['Centre de recherche nantais Architectures Urbanités']\n",
      "Examine l'affiliation : [\"NANTES UNIVERSITÉ - École nationale supérieure d'architecture de Nantes\"]\n",
      "Ajouté : ['Du dessin pour dire les espaces au roman graphique pour restituer une enquête', None, 'https://openalex.org/W4309981718', 2022, 'https://hal.science/hal-03869046', 'Julie Bachimont', \"École Nationale Supérieure d'Architecture de Nantes\", \"NANTES UNIVERSITÉ - École nationale supérieure d'architecture de Nantes\"]\n",
      "Examine l'affiliation : ['Centre de recherche nantais Architectures Urbanités']\n",
      "Examine l'affiliation : ['AAU - Ambiances, Architectures, Urbanités (Équipe CRENAU\\r\\nENSA Nantes\\r\\n6 Quai François Mitterrand\\r\\nBP 16202\\r\\n44262 Nantes CEDEX 2\\r\\n\\r\\nÉquipe CRESSON\\r\\nENSA Grenoble\\r\\n60 Avenue de Constantine\\r\\nCS 12636\\r\\n38036 Grenoble CEDEX 2 - France)', 'CRENAU  - Centre de recherche nantais Architectures Urbanités (6 quai François Mitterrand - BP 16202 - 44262 Nantes cedex 2 - France)']\n",
      "Ajouté : ['La ZAD de Notre-Dame-des-Landes, haut lieu et résidence d’écriture des communs', None, 'https://openalex.org/W4396908300', 2022, 'https://hal.science/hal-04554897', 'Frédéric Barbe', 'AAU - Ambiances, Architectures, Urbanités', 'AAU - Ambiances, Architectures, Urbanités (Équipe CRENAU\\r\\nENSA Nantes\\r\\n6 Quai François Mitterrand\\r\\nBP 16202\\r\\n44262 Nantes CEDEX 2\\r\\n\\r\\nÉquipe CRESSON\\r\\nENSA Grenoble\\r\\n60 Avenue de Constantine\\r\\nCS 12636\\r\\n38036 Grenoble CEDEX 2 - France)']\n",
      "Ajouté : ['La ZAD de Notre-Dame-des-Landes, haut lieu et résidence d’écriture des communs', None, 'https://openalex.org/W4396908300', 2022, 'https://hal.science/hal-04554897', 'Frédéric Barbe', 'AAU - Ambiances, Architectures, Urbanités', 'CRENAU  - Centre de recherche nantais Architectures Urbanités (6 quai François Mitterrand - BP 16202 - 44262 Nantes cedex 2 - France)']\n",
      "Examine l'affiliation : ['AAU - Ambiances, Architectures, Urbanités (Équipe CRENAU\\r\\nENSA Nantes\\r\\n6 Quai François Mitterrand\\r\\nBP 16202\\r\\n44262 Nantes CEDEX 2\\r\\n\\r\\nÉquipe CRESSON\\r\\nENSA Grenoble\\r\\n60 Avenue de Constantine\\r\\nCS 12636\\r\\n38036 Grenoble CEDEX 2 - France)', 'CRENAU  - Centre de recherche nantais Architectures Urbanités (6 quai François Mitterrand - BP 16202 - 44262 Nantes cedex 2 - France)']\n",
      "Ajouté : [\"La fabrique urbaine au tamis de l'innovation\", None, 'https://openalex.org/W4281634141', 2022, 'https://hal.science/hal-03687150', 'Kévin Chesnel', 'AAU - Ambiances, Architectures, Urbanités', 'AAU - Ambiances, Architectures, Urbanités (Équipe CRENAU\\r\\nENSA Nantes\\r\\n6 Quai François Mitterrand\\r\\nBP 16202\\r\\n44262 Nantes CEDEX 2\\r\\n\\r\\nÉquipe CRESSON\\r\\nENSA Grenoble\\r\\n60 Avenue de Constantine\\r\\nCS 12636\\r\\n38036 Grenoble CEDEX 2 - France)']\n",
      "Ajouté : [\"La fabrique urbaine au tamis de l'innovation\", None, 'https://openalex.org/W4281634141', 2022, 'https://hal.science/hal-03687150', 'Kévin Chesnel', 'AAU - Ambiances, Architectures, Urbanités', 'CRENAU  - Centre de recherche nantais Architectures Urbanités (6 quai François Mitterrand - BP 16202 - 44262 Nantes cedex 2 - France)']\n",
      "Examine l'affiliation : ['AAU - Ambiances, Architectures, Urbanités (Équipe CRENAU\\r\\nENSA Nantes\\r\\n6 Quai François Mitterrand\\r\\nBP 16202\\r\\n44262 Nantes CEDEX 2\\r\\n\\r\\nÉquipe CRESSON\\r\\nENSA Grenoble\\r\\n60 Avenue de Constantine\\r\\nCS 12636\\r\\n38036 Grenoble CEDEX 2 - France)', 'CRENAU  - Centre de recherche nantais Architectures Urbanités (6 quai François Mitterrand - BP 16202 - 44262 Nantes cedex 2 - France)']\n",
      "Ajouté : ['Pluralité des bureaucraties, pluralité de l’enquête ? S’immerger au sein d’un guichet communal de délivrance de droits à bâtir', None, 'https://openalex.org/W4382912657', 2022, 'https://hal.science/hal-04146328', 'Solal Lambert-Aouizerat', 'AAU - Ambiances, Architectures, Urbanités', 'AAU - Ambiances, Architectures, Urbanités (Équipe CRENAU\\r\\nENSA Nantes\\r\\n6 Quai François Mitterrand\\r\\nBP 16202\\r\\n44262 Nantes CEDEX 2\\r\\n\\r\\nÉquipe CRESSON\\r\\nENSA Grenoble\\r\\n60 Avenue de Constantine\\r\\nCS 12636\\r\\n38036 Grenoble CEDEX 2 - France)']\n",
      "Ajouté : ['Pluralité des bureaucraties, pluralité de l’enquête ? S’immerger au sein d’un guichet communal de délivrance de droits à bâtir', None, 'https://openalex.org/W4382912657', 2022, 'https://hal.science/hal-04146328', 'Solal Lambert-Aouizerat', 'AAU - Ambiances, Architectures, Urbanités', 'CRENAU  - Centre de recherche nantais Architectures Urbanités (6 quai François Mitterrand - BP 16202 - 44262 Nantes cedex 2 - France)']\n",
      "Examine l'affiliation : ['École nationale supérieure d’architecture de Nantes, CRENAU-UMR AAU, France.']\n",
      "Ajouté : ['Enquêtes et projets : pour une hybridation des modalités pédagogiques au sein des écoles d’architecture', 'https://doi.org/10.14428/emulations.039-40.13', 'https://openalex.org/W4280554983', 2022, 'https://doi.org/10.14428/emulations.039-40.13', 'Anne Bossé', \"École Nationale Supérieure d'Architecture de Nantes\", 'École nationale supérieure d’architecture de Nantes, CRENAU-UMR AAU, France.']\n",
      "Examine l'affiliation : ['École nationale supérieure de Normandie, ATE, France.']\n",
      "Examine l'affiliation : ['Associate Researcher at the AAU Laboratory - ENSA Nantes, France, founder of the company L’Observatoire de la nuit']\n",
      "Ajouté : ['Sociological approach to the territorialization of night-time atmospheres', 'https://doi.org/10.1088/1755-1315/1099/1/012036', 'https://openalex.org/W4309899695', 2022, 'https://doi.org/10.1088/1755-1315/1099/1/012036', 'Houel Nicolas', \"École Nationale Supérieure d'Architecture de Nantes\", 'Associate Researcher at the AAU Laboratory - ENSA Nantes, France, founder of the company L’Observatoire de la nuit']\n",
      "Examine l'affiliation : ['Head of Public Lighting, Light Signals and Telecommunications Networks Division of Brest Métropole, France']\n",
      "Examine l'affiliation : ['(2011) aux Beaux-Arts de Paris,', 'architecte HMONP, commissaire d’exposition cofondateur en 2015 de l’atelier Bony Mosconi, est maître de conférences associé à l’ENSA Versailles et développe depuis 2011 une activité de plasticien, par le biais de dessins, de gravures et d’installations. L’atelier Bony Mosconi a réalisé plusieurs expositions, notamment', 'au Pavillon de l’Arsenal en 2022.', 'à la Maison de l’architecture d’Île-de-France (2015), et']\n",
      "Examine l'affiliation : []\n",
      "Examine l'affiliation : ['architecte HMONP, doctoresse en architecture et commissaire d’exposition, cofondatrice en 2015 de l’atelier Bony Mosconi, est maîtresse de conférences à l’ENSA Nantes, chercheuse (laboratoire AAU - équipe CRENAU) et associée au laboratoire ACS, également présidente de la Maison de l’architecture en Île-de-France. À travers ces activités, elle questionne ce que font les changements climatiques à la manière dont on appréhende, habite et conçoit l’architecture.']\n",
      "Ajouté : ['La (dé)ségrégation des toilettes', 'https://doi.org/10.4000/tc.17359', 'https://openalex.org/W4284881835', 2022, 'https://doi.org/10.4000/tc.17359', 'Léa Mosconi', \"École Nationale Supérieure d'Architecture de Nantes\", 'architecte HMONP, doctoresse en architecture et commissaire d’exposition, cofondatrice en 2015 de l’atelier Bony Mosconi, est maîtresse de conférences à l’ENSA Nantes, chercheuse (laboratoire AAU - équipe CRENAU) et associée au laboratoire ACS, également présidente de la Maison de l’architecture en Île-de-France. À travers ces activités, elle questionne ce que font les changements climatiques à la manière dont on appréhende, habite et conçoit l’architecture.']\n"
     ]
    }
   ],
   "source": [
    "extracted_data = fetch_data(url, params)"
   ]
  },
  {
   "cell_type": "markdown",
   "id": "ff91507d",
   "metadata": {},
   "source": [
    "## Conversion des données en DataFrame"
   ]
  },
  {
   "cell_type": "code",
   "execution_count": 5,
   "id": "9b957ee2",
   "metadata": {},
   "outputs": [],
   "source": [
    "df = pd.DataFrame(extracted_data, columns=['Title', 'DOI', 'Work ID', 'Publication Year', 'Landing Page URL', 'Author Name', 'Affiliation', 'Signature'])"
   ]
  },
  {
   "cell_type": "markdown",
   "id": "757990e5",
   "metadata": {},
   "source": [
    "# Affichage du DataFrame pour vérifier les données"
   ]
  },
  {
   "cell_type": "code",
   "execution_count": 6,
   "id": "87c8f092",
   "metadata": {},
   "outputs": [
    {
     "name": "stdout",
     "output_type": "stream",
     "text": [
      "                                               Title  \\\n",
      "0  THE WHOLE IS OTHER THAN THE SUM OF ITS PARTS: ...   \n",
      "1  THE WHOLE IS OTHER THAN THE SUM OF ITS PARTS: ...   \n",
      "2  THE WHOLE IS OTHER THAN THE SUM OF ITS PARTS: ...   \n",
      "3  THE WHOLE IS OTHER THAN THE SUM OF ITS PARTS: ...   \n",
      "4  Designing thermally sensitive public spaces: a...   \n",
      "\n",
      "                                                 DOI  \\\n",
      "0  https://doi.org/10.5194/isprs-annals-v-4-2022-...   \n",
      "1  https://doi.org/10.5194/isprs-annals-v-4-2022-...   \n",
      "2  https://doi.org/10.5194/isprs-annals-v-4-2022-...   \n",
      "3  https://doi.org/10.5194/isprs-annals-v-4-2022-...   \n",
      "4      https://doi.org/10.1080/13574809.2022.2062312   \n",
      "\n",
      "                            Work ID  Publication Year  \\\n",
      "0  https://openalex.org/W4280538011              2022   \n",
      "1  https://openalex.org/W4280538011              2022   \n",
      "2  https://openalex.org/W4280538011              2022   \n",
      "3  https://openalex.org/W4280538011              2022   \n",
      "4  https://openalex.org/W4293239148              2022   \n",
      "\n",
      "                                    Landing Page URL           Author Name  \\\n",
      "0  https://doi.org/10.5194/isprs-annals-v-4-2022-...           B. Beaucamp   \n",
      "1  https://doi.org/10.5194/isprs-annals-v-4-2022-...              T. Leduc   \n",
      "2  https://doi.org/10.5194/isprs-annals-v-4-2022-...             V. Tourre   \n",
      "3  https://doi.org/10.5194/isprs-annals-v-4-2022-...          M. Servières   \n",
      "4      https://doi.org/10.1080/13574809.2022.2062312  Ignacio Requena-Ruiz   \n",
      "\n",
      "                Affiliation                                          Signature  \n",
      "0  École Centrale de Nantes  Nantes Université, ENSA Nantes, École Centrale...  \n",
      "1  École Centrale de Nantes  Nantes Université, ENSA Nantes, École Centrale...  \n",
      "2  École Centrale de Nantes  Nantes Université, ENSA Nantes, École Centrale...  \n",
      "3  École Centrale de Nantes  Nantes Université, ENSA Nantes, École Centrale...  \n",
      "4  École Centrale de Nantes  ENSA Nantes, Ecole Centrale Nantes, Nantes Uni...  \n"
     ]
    }
   ],
   "source": [
    "print(df.head())"
   ]
  },
  {
   "cell_type": "markdown",
   "id": "4cca6f38",
   "metadata": {},
   "source": [
    "## Export du csv dans le dossier data"
   ]
  },
  {
   "cell_type": "code",
   "execution_count": 7,
   "id": "426ea088",
   "metadata": {},
   "outputs": [],
   "source": [
    "data_directory = '..\\data'\n",
    "if not os.path.exists(data_directory):\n",
    "    os.makedirs(data_directory)"
   ]
  },
  {
   "cell_type": "code",
   "execution_count": 9,
   "id": "4b84862c",
   "metadata": {},
   "outputs": [
    {
     "name": "stdout",
     "output_type": "stream",
     "text": [
      "Data exported successfully to ..\\data\\signatures_authors_ensa2022-openalex.csv\n"
     ]
    }
   ],
   "source": [
    "csv_file_path = os.path.join(data_directory, 'signatures_authors_ensa2022-openalex.csv')\n",
    "df.to_csv(csv_file_path, index=False)\n",
    "print(f\"Data exported successfully to {csv_file_path}\")"
   ]
  },
  {
   "cell_type": "code",
   "execution_count": null,
   "id": "968cfc39",
   "metadata": {},
   "outputs": [],
   "source": []
  }
 ],
 "metadata": {
  "kernelspec": {
   "display_name": "Python 3 (ipykernel)",
   "language": "python",
   "name": "python3"
  },
  "language_info": {
   "codemirror_mode": {
    "name": "ipython",
    "version": 3
   },
   "file_extension": ".py",
   "mimetype": "text/x-python",
   "name": "python",
   "nbconvert_exporter": "python",
   "pygments_lexer": "ipython3",
   "version": "3.9.7"
  }
 },
 "nbformat": 4,
 "nbformat_minor": 5
}
