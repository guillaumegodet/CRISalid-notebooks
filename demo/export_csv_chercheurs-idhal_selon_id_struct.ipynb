{
 "cells": [
  {
   "cell_type": "markdown",
   "id": "9d61405d",
   "metadata": {},
   "source": [
<<<<<<< HEAD
    "# Objectif de ce notebook : exporter dans un fichier .csv la liste des chercheurs et de leurs IdHal affiliés à une liste de laboratoires dans HAL\n",
    "On pourra ensuite importer cette liste d'IdHal dans un annuaire de chercheurs ou mettre à jour les IdHal des chercheurs d'une institution sur https://www.idref.fr/.  \n",
    "\n",
    "## Importation des bibliothèques\n",
    "Les bibliothèques nécessaires sont importées au début. `requests` pour les requêtes HTTP, `BeautifulSoup` pour l'analyse du XML, `csv` pour la manipulation des fichiers CSV, `pandas` pour afficher un tableau d'échantillon."
   ]
  },
  {
   "cell_type": "code",
   "execution_count": 11,
   "id": "2dfd6685",
   "metadata": {},
   "outputs": [],
   "source": [
    "import requests\n",
    "from bs4 import BeautifulSoup\n",
    "import csv\n",
    "import pandas as pd\n",
    "import os"
   ]
  },
  {
   "cell_type": "markdown",
   "id": "e634d975",
   "metadata": {},
   "source": [
    "# Définition des identifiants des laboratoires\n",
    "Liste des identifiants des laboratoires pour lesquels nous voulons récupérer les données des auteurs. Pour connaitre l'identifiant de structure d'une structure de recherche dans HAL : consultez https://aurehal.archives-ouvertes.fr/."
   ]
  },
  {
   "cell_type": "code",
   "execution_count": 12,
   "id": "4c8c3e6f",
   "metadata": {},
   "outputs": [],
   "source": [
    "lab_ids = [444290, 619]"
   ]
  },
  {
   "cell_type": "markdown",
   "id": "0aa00d69",
   "metadata": {},
   "source": [
    "# Requête à l'API et extraction des données\n",
    "Pour chaque identifiant de laboratoire, une requête est envoyée à l'API. Les réponses sont analysées et les données pertinentes sont extraites et enregistrées."
   ]
  },
  {
   "cell_type": "code",
   "execution_count": 13,
   "id": "426ea088",
   "metadata": {},
   "outputs": [],
   "source": [
    "# Chemin du répertoire où les fichiers CSV seront enregistrés\n",
    "base_directory = os.path.abspath('../data')\n",
    "\n",
    "# Définir le chemin complet du fichier CSV\n",
    "csv_file_path = os.path.join(base_directory, 'hal_authors_by_all_labs-univ-test.csv')\n",
    "\n",
    "# Utiliser 'csv_file_path' pour l'ouverture du fichier CSV\n",
    "with open(csv_file_path, 'w', newline='', encoding='utf-8') as csvfile:\n",
    "    writer = csv.writer(csvfile)\n",
    "    writer.writerow(['Labo', 'Author Name', 'IDHAL'])  # En-tête du CSV\n",
    "      \n",
    "    for lab_id in lab_ids:\n",
    "        url = f\"https://api.archives-ouvertes.fr/search/?q=*:*&rows=0&facet=true&facet.field=structHasAuthIdHal_fs&facet.prefix={lab_id}_&wt=xml&facet.limit=10000\"\n",
    "\n",
    "        # Faire la requête à l'API\n",
    "        response = requests.get(url)\n",
    "        if response.status_code == 200:\n",
    "            # Analyser le contenu XML retourné\n",
    "            soup = BeautifulSoup(response.content, 'lxml')\n",
    "\n",
    "            # Extraire les informations des auteurs\n",
    "            for tag in soup.find_all(\"int\"):\n",
    "                parts = tag['name'].split('_FacetSep_')\n",
    "                author_idhal = parts[-2].split('_JoinSep_')[-1] if '_JoinSep_' in parts[-2] else ''\n",
    "                author_name = parts[-1]\n",
    "                writer.writerow([lab_id, author_name, author_idhal])"
   ]
  },
  {
   "cell_type": "markdown",
   "id": "c64920f3",
   "metadata": {},
   "source": [
    "# Voir si les données sont ok sur un échantillon de 10 lignes"
   ]
  },
  {
   "cell_type": "code",
   "execution_count": 14,
   "id": "7cdf9101",
   "metadata": {},
   "outputs": [
    {
     "data": {
      "text/html": [
       "<div>\n",
       "<style scoped>\n",
       "    .dataframe tbody tr th:only-of-type {\n",
       "        vertical-align: middle;\n",
       "    }\n",
       "\n",
       "    .dataframe tbody tr th {\n",
       "        vertical-align: top;\n",
       "    }\n",
       "\n",
       "    .dataframe thead th {\n",
       "        text-align: right;\n",
       "    }\n",
       "</style>\n",
       "<table border=\"1\" class=\"dataframe\">\n",
       "  <thead>\n",
       "    <tr style=\"text-align: right;\">\n",
       "      <th></th>\n",
       "      <th>Labo</th>\n",
       "      <th>Author Name</th>\n",
       "      <th>IDHAL</th>\n",
       "    </tr>\n",
       "  </thead>\n",
       "  <tbody>\n",
       "    <tr>\n",
       "      <th>0</th>\n",
       "      <td>444290</td>\n",
       "      <td>Feugère Michel</td>\n",
       "      <td>michel-feugere</td>\n",
       "    </tr>\n",
       "    <tr>\n",
       "      <th>1</th>\n",
       "      <td>444290</td>\n",
       "      <td>Waksman S.Y.</td>\n",
       "      <td>yona-waksman</td>\n",
       "    </tr>\n",
       "    <tr>\n",
       "      <th>2</th>\n",
       "      <td>444290</td>\n",
       "      <td>Poux Matthieu</td>\n",
       "      <td>NaN</td>\n",
       "    </tr>\n",
       "    <tr>\n",
       "      <th>3</th>\n",
       "      <td>444290</td>\n",
       "      <td>Gilles Amaury</td>\n",
       "      <td>amgilles</td>\n",
       "    </tr>\n",
       "    <tr>\n",
       "      <th>4</th>\n",
       "      <td>444290</td>\n",
       "      <td>Argant Thierry</td>\n",
       "      <td>thierry-argant</td>\n",
       "    </tr>\n",
       "    <tr>\n",
       "      <th>5</th>\n",
       "      <td>444290</td>\n",
       "      <td>Batigne-Vallet C.</td>\n",
       "      <td>cecile-batigne-vallet</td>\n",
       "    </tr>\n",
       "    <tr>\n",
       "      <th>6</th>\n",
       "      <td>444290</td>\n",
       "      <td>Silvino Tony</td>\n",
       "      <td>NaN</td>\n",
       "    </tr>\n",
       "    <tr>\n",
       "      <th>7</th>\n",
       "      <td>444290</td>\n",
       "      <td>Reveyron Nicolas</td>\n",
       "      <td>NaN</td>\n",
       "    </tr>\n",
       "    <tr>\n",
       "      <th>8</th>\n",
       "      <td>444290</td>\n",
       "      <td>Oberlin Christine</td>\n",
       "      <td>christine-oberlin</td>\n",
       "    </tr>\n",
       "    <tr>\n",
       "      <th>9</th>\n",
       "      <td>444290</td>\n",
       "      <td>Delomier Chantal</td>\n",
       "      <td>NaN</td>\n",
       "    </tr>\n",
       "  </tbody>\n",
       "</table>\n",
       "</div>"
      ],
      "text/plain": [
       "     Labo        Author Name                  IDHAL\n",
       "0  444290     Feugère Michel         michel-feugere\n",
       "1  444290       Waksman S.Y.           yona-waksman\n",
       "2  444290      Poux Matthieu                    NaN\n",
       "3  444290      Gilles Amaury               amgilles\n",
       "4  444290     Argant Thierry         thierry-argant\n",
       "5  444290  Batigne-Vallet C.  cecile-batigne-vallet\n",
       "6  444290       Silvino Tony                    NaN\n",
       "7  444290   Reveyron Nicolas                    NaN\n",
       "8  444290  Oberlin Christine      christine-oberlin\n",
       "9  444290   Delomier Chantal                    NaN"
      ]
     },
     "execution_count": 14,
     "metadata": {},
     "output_type": "execute_result"
    }
   ],
   "source": [
    "df_sample = pd.read_csv('../data/hal_authors_by_all_labs-univ-test.csv', nrows=10)\n",
    "df_sample"
   ]
  },
  {
   "cell_type": "markdown",
   "id": "b9199deb",
   "metadata": {},
   "source": [
    "# Confirmation de la création du fichier\n",
    "Une fois toutes les données enregistrées, on confirme la création du fichier CSV."
   ]
  },
  {
   "cell_type": "code",
   "execution_count": 15,
   "id": "d2050128",
   "metadata": {},
   "outputs": [
    {
     "name": "stdout",
     "output_type": "stream",
     "text": [
      "Le fichier 'data/hal_authors_by_all_labs-univ-test.csv' a été créé avec succès.\n"
     ]
    }
   ],
   "source": [
    "print(\"Le fichier 'data/hal_authors_by_all_labs-univ-test.csv' a été créé avec succès.\")"
   ]
  }
 ],
 "metadata": {
  "kernelspec": {
   "display_name": "Python 3 (ipykernel)",
   "language": "python",
   "name": "python3"
  },
  "language_info": {
   "codemirror_mode": {
    "name": "ipython",
    "version": 3
   },
   "file_extension": ".py",
   "mimetype": "text/x-python",
   "name": "python",
   "nbconvert_exporter": "python",
   "pygments_lexer": "ipython3",
   "version": "3.9.7"
  }
 },
 "nbformat": 4,
 "nbformat_minor": 5
}
