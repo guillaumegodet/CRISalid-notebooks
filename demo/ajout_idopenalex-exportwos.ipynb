{
 "cells": [
  {
   "cell_type": "markdown",
   "id": "fa438c5f",
   "metadata": {},
   "source": [
    "# Script pour intégrer l'ID OpenAlex dans un export Excel (issu par exemple du WOS)"
   ]
  },
  {
   "cell_type": "code",
   "execution_count": 5,
   "id": "218db20b",
   "metadata": {},
   "outputs": [],
   "source": [
    "import pandas as pd\n",
    "import requests\n",
    "\n",
    "# Charger le fichier Excel\n",
    "df = pd.read_excel('..\\data\\exportwos.xls')\n",
    "\n",
    "# Vérifier que la colonne 'DOI Link' existe\n",
    "if 'DOI Link' not in df.columns:\n",
    "    raise ValueError(\"La colonne 'DOI Link' n'existe pas dans le fichier Excel.\")\n",
    "\n",
    "# Fonction pour obtenir l'ID OpenAlex d'un DOI\n",
    "def get_openalex_id(doi_url):\n",
    "    response = requests.get(f\"https://api.openalex.org/works/{doi_url}\")\n",
    "    if response.status_code == 200:\n",
    "        data = response.json()\n",
    "        return data['id']\n",
    "    else:\n",
    "        return \"Non trouvé\"\n",
    "\n",
    "# Appliquer la fonction à chaque DOI et ajouter les résultats dans une nouvelle colonne\n",
    "df['OpenAlex ID'] = df['DOI Link'].apply(get_openalex_id)\n",
    "\n",
    "# Enregistrer le fichier Excel modifié\n",
    "df.to_excel('..\\data\\exportwos-modifie.xlsx', index=False)\n"
   ]
  },
  {
   "cell_type": "code",
   "execution_count": null,
   "id": "13bc1097",
   "metadata": {},
   "outputs": [],
   "source": []
  }
 ],
 "metadata": {
  "kernelspec": {
   "display_name": "Python 3 (ipykernel)",
   "language": "python",
   "name": "python3"
  },
  "language_info": {
   "codemirror_mode": {
    "name": "ipython",
    "version": 3
   },
   "file_extension": ".py",
   "mimetype": "text/x-python",
   "name": "python",
   "nbconvert_exporter": "python",
   "pygments_lexer": "ipython3",
   "version": "3.9.7"
  }
 },
 "nbformat": 4,
 "nbformat_minor": 5
}
