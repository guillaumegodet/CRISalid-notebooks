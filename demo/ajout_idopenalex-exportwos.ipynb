{
 "cells": [
  {
   "cell_type": "markdown",
   "id": "fa438c5f",
   "metadata": {},
   "source": [
    "# Objectif de ce notebook : ajouter un champ avec l'ID OpenAlex dans un export Excel issu par exemple du WOS"
   ]
  },
  {
   "cell_type": "code",
   "execution_count": 12,
   "id": "218db20b",
   "metadata": {},
   "outputs": [],
   "source": [
    "# Étape 1 : Importer les bibliothèques nécessaires\n",
    "import pandas as pd\n",
    "import matplotlib.pyplot as plt\n",
    "import seaborn as sns\n",
    "import numpy as np\n",
    "import requests\n",
    "from urllib.parse import quote\n",
    "\n",
    "# Étape 2 : Définir la liste des universités et leurs IDs\n",
    "universities = {\n",
    "    \"University of Cologne\": \"60024025\",\n",
    "    \"University of Birmingham\": \"60019702\",\n",
    "    \"University of Florence\": \"60021859\",\n",
    "    \"Nantes Université\": \"60032006\",\n",
    "    \"Semmelweis University\": \"60024812\",\n",
    "    \"University of Murcia\": \"60000130\",\n",
    "    \"Kyiv National Taras Shevchenko University\": \"60023137\",\n",
    "    \"Linnaeus University\": \"60104372\",\n",
    "    \"INALCO\": \"60107416\",\n",
    "    \"Santiago de Compostela\": \"60028419\",\n",
    "    \"université de Constance\": \"60025525\"\n",
    "}\n",
    "\n",
    "# Étape 3 : Définir les années à analyser\n",
    "years = [2019, 2020, 2021, 2022, 2023]\n",
    "\n",
    "# Étape 4 : Définir votre clé API\n",
    "api_key = \"xxx\"\n",
    "\n",
    "# Étape 5 : Définir l'URL de base de l'API\n",
    "base_url = \"https://api.elsevier.com/content/search/scopus\"\n",
    "\n",
    "# Étape 6 : Fonction pour obtenir le nombre de collaborations\n",
    "def get_collaborations(uni1_id, uni2_id, year):\n",
    "    query = f\"AF-ID({uni1_id}) AND AF-ID({uni2_id}) AND PUBYEAR = {year}\"\n",
    "    encoded_query = quote(query)\n",
    "    url = f\"{base_url}?query={encoded_query}&apiKey={api_key}\"\n",
    "    response = requests.get(url)\n",
    "    if response.status_code == 200:\n",
    "        data = response.json()\n",
    "        return int(data['search-results']['opensearch:totalResults'])\n",
    "    else:\n",
    "        return 0\n",
    "\n",
    "# Étape 7 : Récupérer le nombre de collaborations pour toutes les combinaisons d'universités et années\n",
    "results = []\n",
    "\n",
    "for year in years:\n",
    "    for uni1_name, uni1_id in universities.items():\n",
    "        for uni2_name, uni2_id in universities.items():\n",
    "            if uni1_id != uni2_id:\n",
    "                count = get_collaborations(uni1_id, uni2_id, year)\n",
    "                results.append({\n",
    "                    \"Year\": year,\n",
    "                    \"University 1\": uni1_name,\n",
    "                    \"University 2\": uni2_name,\n",
    "                    \"Collaborations\": count\n",
    "                })\n",
    "\n",
    "# Étape 8 : Convertir les résultats en DataFrame\n",
    "df = pd.DataFrame(results)\n",
    "\n",
    "# Étape 9 : Sauvegarder les résultats dans un fichier CSV\n",
    "df.to_csv('collaborations_results.csv', index=False)\n",
    "\n",
    "# Étape 11 : Fonction pour créer une heatmap pour une année spécifique\n",
    "def plot_heatmap_for_year(df, year, save_path):\n",
    "    df_year = df[df['Year'] == year]\n",
    "    df_pivot = df_year.pivot_table(index='University 1', columns='University 2', values='Collaborations', fill_value=0)\n",
    "    \n",
    "    # Assurer que la matrice est symétrique\n",
    "    df_pivot = df_pivot.reindex(columns=df_pivot.index, fill_value=0)\n",
    "    \n",
    "    # Créer un masque pour les intersections identiques\n",
    "    mask = np.zeros_like(df_pivot, dtype=bool)\n",
    "    np.fill_diagonal(mask, True)\n",
    "    \n",
    "    plt.figure(figsize=(15, 12))  # Augmenter la taille de la figure\n",
    "    sns.heatmap(df_pivot, annot=True, cmap=\"YlGnBu\", cbar=True, mask=mask, linewidths=.5, linecolor='gray')\n",
    "    plt.title(f'Collaborations EUniWell {year}', fontsize=24)  # Titre personnalisé avec taille augmentée\n",
    "    plt.xlabel('Université 2', fontsize=14)\n",
    "    plt.ylabel('Université 1', fontsize=14)\n",
    "    plt.xticks(rotation=45, ha='right', fontsize=12)  # Rotation et alignement des étiquettes de l'axe des x\n",
    "    plt.yticks(rotation=0, fontsize=12)  # Taille des étiquettes de l'axe des y\n",
    "    plt.tight_layout()  # Ajuster le layout pour éviter que les étiquettes soient coupées\n",
    "    plt.savefig(save_path, dpi=300)  # Sauvegarder l'image en PNG avec une haute résolution\n",
    "    plt.close()\n",
    "\n",
    "# Étape 12 : Créer et sauvegarder des heatmaps pour chaque année\n",
    "for year in years:\n",
    "    save_path = f'heatmap_collaborations_{year}.png'\n",
    "    plot_heatmap_for_year(df, year, save_path)\n",
    "\n",
    "print(\"CSV et heatmaps créés et sauvegardés pour chaque année.\")\n"
   ]
  },
  {
   "cell_type": "markdown",
   "id": "9113106f",
   "metadata": {},
   "source": [
    "Charger le fichier Excel"
   ]
  },
  {
   "cell_type": "code",
   "execution_count": 7,
   "id": "c3e8a254",
   "metadata": {},
   "outputs": [],
   "source": [
    "df = pd.read_excel('..\\data\\exportwos.xls')"
   ]
  },
  {
   "cell_type": "markdown",
   "id": "dfb776b8",
   "metadata": {},
   "source": [
    "Vérifier que la colonne 'DOI Link' existe"
   ]
  },
  {
   "cell_type": "code",
   "execution_count": 8,
   "id": "6a752c1c",
   "metadata": {},
   "outputs": [],
   "source": [
    "if 'DOI Link' not in df.columns:\n",
    "    raise ValueError(\"La colonne 'DOI Link' n'existe pas dans le fichier Excel.\")"
   ]
  },
  {
   "cell_type": "markdown",
   "id": "0f4ca857",
   "metadata": {},
   "source": [
    "Fonction pour obtenir l'ID OpenAlex d'un DOI :"
   ]
  },
  {
   "cell_type": "code",
   "execution_count": 9,
   "id": "35579a16",
   "metadata": {},
   "outputs": [],
   "source": [
    "def get_openalex_id(doi_url):\n",
    "    response = requests.get(f\"https://api.openalex.org/works/{doi_url}\")\n",
    "    if response.status_code == 200:\n",
    "        data = response.json()\n",
    "        return data['id']\n",
    "    else:\n",
    "        return \"Non trouvé\""
   ]
  },
  {
   "cell_type": "markdown",
   "id": "50da0f68",
   "metadata": {},
   "source": [
    "Appliquer la fonction à chaque DOI et ajouter les résultats dans une nouvelle colonne"
   ]
  },
  {
   "cell_type": "code",
   "execution_count": 10,
   "id": "337cdd9b",
   "metadata": {},
   "outputs": [],
   "source": [
    "df['OpenAlex ID'] = df['DOI Link'].apply(get_openalex_id)"
   ]
  },
  {
   "cell_type": "markdown",
   "id": "250709a6",
   "metadata": {},
   "source": [
    "Enregistrer le fichier Excel modifié"
   ]
  },
  {
   "cell_type": "code",
   "execution_count": 11,
   "id": "93a1413f",
   "metadata": {},
   "outputs": [],
   "source": [
    "df.to_excel('..\\data\\exportwos-modifie.xlsx', index=False)"
   ]
  },
  {
   "cell_type": "code",
   "execution_count": null,
   "id": "8f6331d3",
   "metadata": {},
   "outputs": [],
   "source": []
  }
 ],
 "metadata": {
  "kernelspec": {
   "display_name": "Python 3 (ipykernel)",
   "language": "python",
   "name": "python3"
  },
  "language_info": {
   "codemirror_mode": {
    "name": "ipython",
    "version": 3
   },
   "file_extension": ".py",
   "mimetype": "text/x-python",
   "name": "python",
   "nbconvert_exporter": "python",
   "pygments_lexer": "ipython3",
   "version": "3.9.7"
  }
 },
 "nbformat": 4,
 "nbformat_minor": 5
}
