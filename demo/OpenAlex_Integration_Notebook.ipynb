{
 "cells": [
  {
   "cell_type": "markdown",
   "id": "fa438c5f",
   "metadata": {},
   "source": [
    "# Script pour intégrer l'ID OpenAlex dans un export Excel (issu par exemple du WOS)"
   ]
  },
  {
   "cell_type": "code",
   "execution_count": 5,
   "id": "218db20b",
   "metadata": {},
   "outputs": [],
   "source": [
    "import pandas as pd\n",
    "import requests\n",
    "\n",
    "# Charger le fichier Excel\n",
    "\n",
    "\n",
    "if 'DOI Link' not in df.columns:\n",
    "    raise ValueError(\"La colonne 'DOI Link' n'existe pas dans le fichier Excel.\")\n",
    "\n",
    "\n",
    "def get_openalex_id(doi_url):\n",
    "    response = requests.get(f\"https://api.openalex.org/works/{doi_url}\")\n",
    "    if response.status_code == 200:\n",
    "        data = response.json()\n",
    "        return data['id']\n",
    "    else:\n",
    "        return \"Non trouvé\"\n",
    "\n",
    "# Appliquer la fonction à chaque DOI et ajouter les résultats dans une nouvelle colonne\n",
    "df['OpenAlex ID'] = df['DOI Link'].apply(get_openalex_id)\n",
    "\n",
    "# Enregistrer le fichier Excel modifié\n",
    "\n"
   ]
  },
  {
   "cell_type": "markdown",
   "id": "013a5f4d",
   "metadata": {},
   "source": [
    "# Charger le fichier Excel"
   ]
  },
  {
   "cell_type": "code",
   "execution_count": null,
   "id": "92923e70",
   "metadata": {},
   "outputs": [],
   "source": [
    "df = pd.read_excel('..\\data\\exportwos.xls')"
   ]
  },
  {
   "cell_type": "markdown",
   "id": "fcdaaab3",
   "metadata": {},
   "source": [
    "# Vérifier que la colonne 'DOI Link' existe"
   ]
  },
  {
   "cell_type": "code",
   "execution_count": null,
   "id": "0a941739",
   "metadata": {},
   "outputs": [],
   "source": [
    "if 'DOI Link' not in df.columns:\n",
    "    raise ValueError(\"La colonne 'DOI Link' n'existe pas dans le fichier Excel.\")"
   ]
  },
  {
   "cell_type": "markdown",
   "id": "02d06f68",
   "metadata": {},
   "source": [
    "# Fonction pour obtenir l'ID OpenAlex d'un DOI"
   ]
  },
  {
   "cell_type": "code",
   "execution_count": null,
   "id": "2fab8e84",
   "metadata": {},
   "outputs": [],
   "source": [
    "def get_openalex_id(doi_url):\n",
    "    response = requests.get(f\"https://api.openalex.org/works/{doi_url}\")\n",
    "    if response.status_code == 200:\n",
    "        data = response.json()\n",
    "        return data['id']\n",
    "    else:\n",
    "        return \"Non trouvé\""
   ]
  },
  {
   "cell_type": "markdown",
   "id": "d8535352",
   "metadata": {},
   "source": [
    "# Appliquer la fonction à chaque DOI et ajouter les résultats dans une nouvelle colonne"
   ]
  },
  {
   "cell_type": "code",
   "execution_count": null,
   "id": "9e0d25bf",
   "metadata": {},
   "outputs": [],
   "source": [
    "df['OpenAlex ID'] = df['DOI Link'].apply(get_openalex_id)"
   ]
  },
  {
   "cell_type": "markdown",
   "id": "cf4f1fe1",
   "metadata": {},
   "source": [
    "# Enregistrer le fichier Excel modifié"
   ]
  },
  {
   "cell_type": "code",
   "execution_count": null,
   "id": "f70d3262",
   "metadata": {},
   "outputs": [],
   "source": [
    "df.to_excel('..\\data\\exportwos-modifie.xlsx', index=False)"
   ]
  }
 ],
 "metadata": {
  "kernelspec": {
   "display_name": "Python 3 (ipykernel)",
   "language": "python",
   "name": "python3"
  },
  "language_info": {
   "codemirror_mode": {
    "name": "ipython",
    "version": 3
   },
   "file_extension": ".py",
   "mimetype": "text/x-python",
   "name": "python",
   "nbconvert_exporter": "python",
   "pygments_lexer": "ipython3",
   "version": "3.9.7"
  }
 },
 "nbformat": 4,
 "nbformat_minor": 5
}
