{
 "cells": [
  {
   "cell_type": "markdown",
   "id": "fa438c5f",
   "metadata": {},
   "source": [
    "# Objectif de ce notebook : ajouter un chaml'ID OpenAlex dans un export Excel (issu par exemple du WOS)"
   ]
  },
  {
   "cell_type": "code",
   "execution_count": 6,
   "id": "218db20b",
   "metadata": {},
   "outputs": [],
   "source": [
    "import pandas as pd\n",
    "import requests"
   ]
  },
  {
   "cell_type": "markdown",
   "id": "5b9480ba",
   "metadata": {},
   "source": [
    "# Charger le fichier Excel"
   ]
  },
  {
   "cell_type": "code",
   "execution_count": 7,
   "id": "46236e4c",
   "metadata": {},
   "outputs": [],
   "source": [
    "df = pd.read_excel('..\\data\\exportwos.xls')"
   ]
  },
  {
   "cell_type": "markdown",
   "id": "64a302c1",
   "metadata": {},
   "source": [
    "# Vérifier que la colonne 'DOI Link' existe"
   ]
  },
  {
   "cell_type": "code",
   "execution_count": 8,
   "id": "59050b53",
   "metadata": {},
   "outputs": [],
   "source": [
    "if 'DOI Link' not in df.columns:\n",
    "    raise ValueError(\"La colonne 'DOI Link' n'existe pas dans le fichier Excel.\")"
   ]
  },
  {
   "cell_type": "markdown",
   "id": "f7fef522",
   "metadata": {},
   "source": [
    "# Fonction pour obtenir l'ID OpenAlex d'un DOI"
   ]
  },
  {
   "cell_type": "code",
   "execution_count": 9,
   "id": "2d009296",
   "metadata": {},
   "outputs": [],
   "source": [
    "def get_openalex_id(doi_url):\n",
    "    response = requests.get(f\"https://api.openalex.org/works/{doi_url}\")\n",
    "    if response.status_code == 200:\n",
    "        data = response.json()\n",
    "        return data['id']\n",
    "    else:\n",
    "        return \"Non trouvé\""
   ]
  },
  {
   "cell_type": "markdown",
   "id": "8be51a30",
   "metadata": {},
   "source": [
    "# Appliquer la fonction à chaque DOI et ajouter les résultats dans une nouvelle colonne"
   ]
  },
  {
   "cell_type": "code",
   "execution_count": 10,
   "id": "2262c39c",
   "metadata": {},
   "outputs": [],
   "source": [
    "df['OpenAlex ID'] = df['DOI Link'].apply(get_openalex_id)"
   ]
  },
  {
   "cell_type": "markdown",
   "id": "ff7f69e9",
   "metadata": {},
   "source": [
    "# Enregistrer le fichier Excel modifié"
   ]
  },
  {
   "cell_type": "code",
   "execution_count": 11,
   "id": "9def7768",
   "metadata": {},
   "outputs": [],
   "source": [
    "df.to_excel('..\\data\\exportwos-modifie.xlsx', index=False)"
   ]
  },
  {
   "cell_type": "code",
   "execution_count": null,
   "id": "23f40fa8",
   "metadata": {},
   "outputs": [],
   "source": []
  }
 ],
 "metadata": {
  "kernelspec": {
   "display_name": "Python 3 (ipykernel)",
   "language": "python",
   "name": "python3"
  },
  "language_info": {
   "codemirror_mode": {
    "name": "ipython",
    "version": 3
   },
   "file_extension": ".py",
   "mimetype": "text/x-python",
   "name": "python",
   "nbconvert_exporter": "python",
   "pygments_lexer": "ipython3",
   "version": "3.9.7"
  }
 },
 "nbformat": 4,
 "nbformat_minor": 5
}
