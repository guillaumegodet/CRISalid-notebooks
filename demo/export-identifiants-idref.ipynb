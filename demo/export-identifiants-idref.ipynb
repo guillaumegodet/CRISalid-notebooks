{
 "cells": [
  {
   "cell_type": "markdown",
   "id": "9d61405d",
   "metadata": {},
   "source": [
    "# Objectif de ce notebook : exporter dans un fichier .csv la liste des identifiants présents dans les notices IdRef d'une liste de chercheurs"
   ]
  },
  {
   "cell_type": "code",
   "execution_count": 1,
   "id": "2dfd6685",
   "metadata": {},
   "outputs": [],
   "source": [
    "import requests\n",
    "import xml.etree.ElementTree as ET\n",
    "import csv"
   ]
  },
  {
   "cell_type": "markdown",
   "id": "e634d975",
   "metadata": {},
   "source": [
    "## Interroger le webservice idref2id et obtenir les identifiants chercheurs\n",
    "Le webservice idref2id développé par l'ABES fournit les identifiants d’une dizaine de systèmes (à spécifier dans la requête) à partir d’un identifiant IdRef"
   ]
  },
  {
   "cell_type": "code",
   "execution_count": 2,
   "id": "4c8c3e6f",
   "metadata": {},
   "outputs": [],
   "source": [
    "def get_chercheur_ids(ppn):\n",
    "    url = f\"https://www.idref.fr/services/idref2id/{ppn}\"\n",
    "    response = requests.get(url)\n",
    "    if response.status_code == 200:\n",
    "        tree = ET.fromstring(response.content)\n",
    "        result_dict = {'PPN': ppn, 'HAL': '', 'ORCID': '', 'VIAF': '', 'WIKIPEDIA': '', 'ISNI': '', 'BNF': '', 'WIKIDATA': ''}\n",
    "        for query in tree.findall('.//query'):\n",
    "            for result in query.findall('.//result'):\n",
    "                source = result.find('source').text\n",
    "                identifiant = result.find('identifiant').text\n",
    "                if source in result_dict:\n",
    "                    result_dict[source] = identifiant\n",
    "        return result_dict\n",
    "    else:\n",
    "        return None"
   ]
  },
  {
   "cell_type": "markdown",
   "id": "0aa00d69",
   "metadata": {},
   "source": [
    "## Lire les identifiants Idref depuis un fichier .txt"
   ]
  },
  {
   "cell_type": "code",
   "execution_count": 3,
   "id": "c7baa43a",
   "metadata": {},
   "outputs": [],
   "source": [
    "with open('..\\data\\idref.txt', 'r') as file:\n",
    "    idrefs = file.read().splitlines()\n",
    "all_results = []"
   ]
  },
  {
   "cell_type": "markdown",
   "id": "bccc3d49",
   "metadata": {},
   "source": [
    "## Itérer sur chaque Idref pour récupérer les identifiants chercheurs correspondants"
   ]
  },
  {
   "cell_type": "code",
   "execution_count": 4,
   "id": "c401a287",
   "metadata": {},
   "outputs": [],
   "source": [
    "for idref in idrefs:\n",
    "    result = get_chercheur_ids(idref)\n",
    "    if result:\n",
    "        all_results.append(result)\n"
   ]
  },
  {
   "cell_type": "markdown",
   "id": "ff91507d",
   "metadata": {},
   "source": [
    "## Définir le nom des colonnes du fichier CSV"
   ]
  },
  {
   "cell_type": "code",
   "execution_count": 5,
   "id": "9b957ee2",
   "metadata": {},
   "outputs": [],
   "source": [
    "headers = ['PPN', 'HAL', 'ORCID', 'VIAF', 'WIKIPEDIA', 'ISNI', 'BNF', 'WIKIDATA']"
   ]
  },
  {
   "cell_type": "markdown",
   "id": "757990e5",
   "metadata": {},
   "source": [
    "# Écrire les résultats dans un fichier CSV"
   ]
  },
  {
   "cell_type": "code",
   "execution_count": 7,
   "id": "87c8f092",
   "metadata": {},
   "outputs": [
    {
     "name": "stdout",
     "output_type": "stream",
     "text": [
      "Les données ont été écrites avec succès\n"
     ]
    }
   ],
   "source": [
    "with open('..\\data\\chercheurs_identifiants.csv', 'w', newline='', encoding='utf-8') as csvfile:\n",
    "    writer = csv.DictWriter(csvfile, fieldnames=headers)\n",
    "    writer.writeheader()\n",
    "    writer.writerows(all_results)\n",
    "print(f\"Les données ont été écrites avec succès\")"
   ]
  }
 ],
 "metadata": {
  "kernelspec": {
   "display_name": "Python 3 (ipykernel)",
   "language": "python",
   "name": "python3"
  },
  "language_info": {
   "codemirror_mode": {
    "name": "ipython",
    "version": 3
   },
   "file_extension": ".py",
   "mimetype": "text/x-python",
   "name": "python",
   "nbconvert_exporter": "python",
   "pygments_lexer": "ipython3",
   "version": "3.9.7"
  }
 },
 "nbformat": 4,
 "nbformat_minor": 5
}
